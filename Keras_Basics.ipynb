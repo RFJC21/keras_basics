{
  "nbformat": 4,
  "nbformat_minor": 0,
  "metadata": {
    "colab": {
      "name": "Keras_Basics.ipynb",
      "provenance": [],
      "collapsed_sections": [],
      "authorship_tag": "ABX9TyPkjXJrJu7cJKR9ggNoD4lQ",
      "include_colab_link": true
    },
    "kernelspec": {
      "name": "python3",
      "display_name": "Python 3"
    }
  },
  "cells": [
    {
      "cell_type": "markdown",
      "metadata": {
        "id": "view-in-github",
        "colab_type": "text"
      },
      "source": [
        "<a href=\"https://colab.research.google.com/github/RFJC21/keras_basics/blob/master/Keras_Basics.ipynb\" target=\"_parent\"><img src=\"https://colab.research.google.com/assets/colab-badge.svg\" alt=\"Open In Colab\"/></a>"
      ]
    },
    {
      "cell_type": "code",
      "metadata": {
        "id": "zjdOkF-EmmSJ",
        "colab_type": "code",
        "outputId": "3830d756-7094-4b5c-b237-186c1378804e",
        "colab": {
          "base_uri": "https://localhost:8080/",
          "height": 68
        }
      },
      "source": [
        "import pandas as pd\n",
        "import seaborn as sns\n",
        "import numpy as np\n",
        "import keras\n",
        "from sklearn.model_selection import train_test_split\n",
        "from sklearn.preprocessing import MinMaxScaler\n",
        "\n",
        "from tensorflow.keras.models import Sequential\n",
        "from tensorflow.keras.layers import Dense\n",
        "\n",
        "from sklearn.metrics import mean_absolute_error,mean_squared_error"
      ],
      "execution_count": 1,
      "outputs": [
        {
          "output_type": "stream",
          "text": [
            "/usr/local/lib/python3.6/dist-packages/statsmodels/tools/_testing.py:19: FutureWarning: pandas.util.testing is deprecated. Use the functions in the public API at pandas.testing instead.\n",
            "  import pandas.util.testing as tm\n",
            "Using TensorFlow backend.\n"
          ],
          "name": "stderr"
        }
      ]
    },
    {
      "cell_type": "code",
      "metadata": {
        "id": "8NlKAev8mvqZ",
        "colab_type": "code",
        "outputId": "35a385b9-00cb-4db5-ebdb-0c46731edaf1",
        "colab": {
          "resources": {
            "http://localhost:8080/nbextensions/google.colab/files.js": {
              "data": "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",
              "ok": true,
              "headers": [
                [
                  "content-type",
                  "application/javascript"
                ]
              ],
              "status": 200,
              "status_text": ""
            }
          },
          "base_uri": "https://localhost:8080/",
          "height": 74
        }
      },
      "source": [
        "from google.colab import files\n",
        "uploaded = files.upload()"
      ],
      "execution_count": 2,
      "outputs": [
        {
          "output_type": "display_data",
          "data": {
            "text/html": [
              "\n",
              "     <input type=\"file\" id=\"files-6e4758d8-1f0c-4217-a380-baba9f5fe1fd\" name=\"files[]\" multiple disabled />\n",
              "     <output id=\"result-6e4758d8-1f0c-4217-a380-baba9f5fe1fd\">\n",
              "      Upload widget is only available when the cell has been executed in the\n",
              "      current browser session. Please rerun this cell to enable.\n",
              "      </output>\n",
              "      <script src=\"/nbextensions/google.colab/files.js\"></script> "
            ],
            "text/plain": [
              "<IPython.core.display.HTML object>"
            ]
          },
          "metadata": {
            "tags": []
          }
        },
        {
          "output_type": "stream",
          "text": [
            "Saving fake_reg.csv to fake_reg.csv\n"
          ],
          "name": "stdout"
        }
      ]
    },
    {
      "cell_type": "code",
      "metadata": {
        "id": "iXZ9vvdfnI0t",
        "colab_type": "code",
        "outputId": "6eb12f1d-0d18-4fa0-f364-8a1553b88fc5",
        "colab": {
          "base_uri": "https://localhost:8080/",
          "height": 204
        }
      },
      "source": [
        "import io\n",
        "df = pd.read_csv(io.BytesIO(uploaded['fake_reg.csv']))\n",
        "df.head()"
      ],
      "execution_count": 32,
      "outputs": [
        {
          "output_type": "execute_result",
          "data": {
            "text/html": [
              "<div>\n",
              "<style scoped>\n",
              "    .dataframe tbody tr th:only-of-type {\n",
              "        vertical-align: middle;\n",
              "    }\n",
              "\n",
              "    .dataframe tbody tr th {\n",
              "        vertical-align: top;\n",
              "    }\n",
              "\n",
              "    .dataframe thead th {\n",
              "        text-align: right;\n",
              "    }\n",
              "</style>\n",
              "<table border=\"1\" class=\"dataframe\">\n",
              "  <thead>\n",
              "    <tr style=\"text-align: right;\">\n",
              "      <th></th>\n",
              "      <th>price</th>\n",
              "      <th>feature1</th>\n",
              "      <th>feature2</th>\n",
              "    </tr>\n",
              "  </thead>\n",
              "  <tbody>\n",
              "    <tr>\n",
              "      <th>0</th>\n",
              "      <td>461.527929</td>\n",
              "      <td>999.787558</td>\n",
              "      <td>999.766096</td>\n",
              "    </tr>\n",
              "    <tr>\n",
              "      <th>1</th>\n",
              "      <td>548.130011</td>\n",
              "      <td>998.861615</td>\n",
              "      <td>1001.042403</td>\n",
              "    </tr>\n",
              "    <tr>\n",
              "      <th>2</th>\n",
              "      <td>410.297162</td>\n",
              "      <td>1000.070267</td>\n",
              "      <td>998.844015</td>\n",
              "    </tr>\n",
              "    <tr>\n",
              "      <th>3</th>\n",
              "      <td>540.382220</td>\n",
              "      <td>999.952251</td>\n",
              "      <td>1000.440940</td>\n",
              "    </tr>\n",
              "    <tr>\n",
              "      <th>4</th>\n",
              "      <td>546.024553</td>\n",
              "      <td>1000.446011</td>\n",
              "      <td>1000.338531</td>\n",
              "    </tr>\n",
              "  </tbody>\n",
              "</table>\n",
              "</div>"
            ],
            "text/plain": [
              "        price     feature1     feature2\n",
              "0  461.527929   999.787558   999.766096\n",
              "1  548.130011   998.861615  1001.042403\n",
              "2  410.297162  1000.070267   998.844015\n",
              "3  540.382220   999.952251  1000.440940\n",
              "4  546.024553  1000.446011  1000.338531"
            ]
          },
          "metadata": {
            "tags": []
          },
          "execution_count": 32
        }
      ]
    },
    {
      "cell_type": "code",
      "metadata": {
        "id": "XwJcNgqOnVGN",
        "colab_type": "code",
        "outputId": "3b347454-b7db-407c-fdeb-e1a47c543066",
        "colab": {
          "base_uri": "https://localhost:8080/",
          "height": 587
        }
      },
      "source": [
        "sns.pairplot(df)"
      ],
      "execution_count": 4,
      "outputs": [
        {
          "output_type": "execute_result",
          "data": {
            "text/plain": [
              "<seaborn.axisgrid.PairGrid at 0x7fc8c4d12128>"
            ]
          },
          "metadata": {
            "tags": []
          },
          "execution_count": 4
        },
        {
          "output_type": "display_data",
          "data": {
            "image/png": "[encoded data removed]",
            "text/plain": [
              "<Figure size 540x540 with 12 Axes>"
            ]
          },
          "metadata": {
            "tags": []
          }
        }
      ]
    },
    {
      "cell_type": "markdown",
      "metadata": {
        "id": "3HATGNyzoESg",
        "colab_type": "text"
      },
      "source": [
        "# Split Data"
      ]
    },
    {
      "cell_type": "code",
      "metadata": {
        "id": "rYyHWTr6np0R",
        "colab_type": "code",
        "colab": {}
      },
      "source": [
        "from sklearn.model_selection import train_test_split"
      ],
      "execution_count": 0,
      "outputs": []
    },
    {
      "cell_type": "code",
      "metadata": {
        "id": "mX1hmlqOoRvQ",
        "colab_type": "code",
        "colab": {}
      },
      "source": [
        "# always as a nunpy array\n",
        "# features\n",
        "X=df[['feature1','feature2']].values"
      ],
      "execution_count": 0,
      "outputs": []
    },
    {
      "cell_type": "code",
      "metadata": {
        "id": "oUew20ujojIN",
        "colab_type": "code",
        "colab": {}
      },
      "source": [
        "# label\n",
        "y=df['price'].values"
      ],
      "execution_count": 0,
      "outputs": []
    },
    {
      "cell_type": "code",
      "metadata": {
        "id": "CZKxEkYFpCai",
        "colab_type": "code",
        "colab": {}
      },
      "source": [
        "X_train,X_test,y_train,y_test=train_test_split(X,y,test_size=0.3,random_state=42)"
      ],
      "execution_count": 0,
      "outputs": []
    },
    {
      "cell_type": "markdown",
      "metadata": {
        "id": "znjB-Tp3qav_",
        "colab_type": "text"
      },
      "source": [
        "# Normalize or sacale our data"
      ]
    },
    {
      "cell_type": "code",
      "metadata": {
        "id": "BdIk21X3p698",
        "colab_type": "code",
        "colab": {}
      },
      "source": [
        "from sklearn.preprocessing import MinMaxScaler"
      ],
      "execution_count": 0,
      "outputs": []
    },
    {
      "cell_type": "code",
      "metadata": {
        "id": "W_2zNnXdqoSH",
        "colab_type": "code",
        "colab": {}
      },
      "source": [
        "# just features and just fit on train set"
      ],
      "execution_count": 0,
      "outputs": []
    },
    {
      "cell_type": "code",
      "metadata": {
        "id": "Z1MdXlM1qtXR",
        "colab_type": "code",
        "colab": {}
      },
      "source": [
        "scaler=MinMaxScaler()\n",
        "scaler.fit(X_train)\n",
        "X_train=scaler.transform(X_train)\n",
        "X_test=scaler.transform(X_test)"
      ],
      "execution_count": 0,
      "outputs": []
    },
    {
      "cell_type": "markdown",
      "metadata": {
        "id": "oDEJnFJDapWq",
        "colab_type": "text"
      },
      "source": [
        "# Create Model"
      ]
    },
    {
      "cell_type": "code",
      "metadata": {
        "id": "skoENiV1rN7G",
        "colab_type": "code",
        "colab": {}
      },
      "source": [
        "from tensorflow.keras.models import Sequential\n",
        "from tensorflow.keras.layers import Dense"
      ],
      "execution_count": 0,
      "outputs": []
    },
    {
      "cell_type": "code",
      "metadata": {
        "id": "f6AKpqUya2oY",
        "colab_type": "code",
        "colab": {}
      },
      "source": [
        "#help(Sequential)"
      ],
      "execution_count": 0,
      "outputs": []
    },
    {
      "cell_type": "code",
      "metadata": {
        "id": "k0wEqp-6bCae",
        "colab_type": "code",
        "colab": {}
      },
      "source": [
        "#This project is a Regression Problem!! Predictiong a price\n",
        "#out put is 1, because we are going to compare the predicted price to our true price\n",
        "model=Sequential()\n",
        "\n",
        "model.add(Dense(4, activation='relu'))\n",
        "model.add(Dense(4, activation='relu'))\n",
        "model.add(Dense(4, activation='relu'))\n",
        "model.add(Dense(1))\n",
        "\n",
        "model.compile(optimizer='rmsprop',loss='mse')"
      ],
      "execution_count": 0,
      "outputs": []
    },
    {
      "cell_type": "markdown",
      "metadata": {
        "id": "Qa6qx7IPgpfJ",
        "colab_type": "text"
      },
      "source": [
        "#Fit Model to Trainning Data"
      ]
    },
    {
      "cell_type": "code",
      "metadata": {
        "id": "86xire7ZgYXy",
        "colab_type": "code",
        "colab": {
          "base_uri": "https://localhost:8080/",
          "height": 1000
        },
        "outputId": "002c960c-19d4-4664-f9a7-cb58920f1c08"
      },
      "source": [
        "model.fit(x=X_train,y=y_train,epochs=250)"
      ],
      "execution_count": 48,
      "outputs": [
        {
          "output_type": "stream",
          "text": [
            "Epoch 1/250\n",
            "22/22 [==============================] - 0s 1ms/step - loss: 256999.3438\n",
            "Epoch 2/250\n",
            "22/22 [==============================] - 0s 1ms/step - loss: 256781.1875\n",
            "Epoch 3/250\n",
            "22/22 [==============================] - 0s 1ms/step - loss: 256554.2500\n",
            "Epoch 4/250\n",
            "22/22 [==============================] - 0s 1ms/step - loss: 256593.1875\n",
            "Epoch 5/250\n",
            "22/22 [==============================] - 0s 1ms/step - loss: 256680.4375\n",
            "Epoch 6/250\n",
            "22/22 [==============================] - 0s 1ms/step - loss: 256670.7656\n",
            "Epoch 7/250\n",
            "22/22 [==============================] - 0s 1ms/step - loss: 256537.3438\n",
            "Epoch 8/250\n",
            "22/22 [==============================] - 0s 1ms/step - loss: 256493.0938\n",
            "Epoch 9/250\n",
            "22/22 [==============================] - 0s 1ms/step - loss: 256408.0938\n",
            "Epoch 10/250\n",
            "22/22 [==============================] - 0s 1ms/step - loss: 256496.0000\n",
            "Epoch 11/250\n",
            "22/22 [==============================] - 0s 1ms/step - loss: 256518.6562\n",
            "Epoch 12/250\n",
            "22/22 [==============================] - 0s 1ms/step - loss: 256359.3125\n",
            "Epoch 13/250\n",
            "22/22 [==============================] - 0s 1ms/step - loss: 256294.1406\n",
            "Epoch 14/250\n",
            "22/22 [==============================] - 0s 1ms/step - loss: 256112.2031\n",
            "Epoch 15/250\n",
            "22/22 [==============================] - 0s 1ms/step - loss: 255901.6094\n",
            "Epoch 16/250\n",
            "22/22 [==============================] - 0s 1ms/step - loss: 256176.6094\n",
            "Epoch 17/250\n",
            "22/22 [==============================] - 0s 1ms/step - loss: 256029.7500\n",
            "Epoch 18/250\n",
            "22/22 [==============================] - 0s 1ms/step - loss: 255797.7344\n",
            "Epoch 19/250\n",
            "22/22 [==============================] - 0s 1ms/step - loss: 255797.6875\n",
            "Epoch 20/250\n",
            "22/22 [==============================] - 0s 1ms/step - loss: 255472.5000\n",
            "Epoch 21/250\n",
            "22/22 [==============================] - 0s 1ms/step - loss: 255344.0938\n",
            "Epoch 22/250\n",
            "22/22 [==============================] - 0s 1ms/step - loss: 255361.9375\n",
            "Epoch 23/250\n",
            "22/22 [==============================] - 0s 1ms/step - loss: 255253.6875\n",
            "Epoch 24/250\n",
            "22/22 [==============================] - 0s 1ms/step - loss: 254787.8125\n",
            "Epoch 25/250\n",
            "22/22 [==============================] - 0s 1ms/step - loss: 254545.8125\n",
            "Epoch 26/250\n",
            "22/22 [==============================] - 0s 1ms/step - loss: 254235.7969\n",
            "Epoch 27/250\n",
            "22/22 [==============================] - 0s 1ms/step - loss: 254140.3906\n",
            "Epoch 28/250\n",
            "22/22 [==============================] - 0s 1ms/step - loss: 253726.8438\n",
            "Epoch 29/250\n",
            "22/22 [==============================] - 0s 1ms/step - loss: 253476.2031\n",
            "Epoch 30/250\n",
            "22/22 [==============================] - 0s 1ms/step - loss: 252864.4531\n",
            "Epoch 31/250\n",
            "22/22 [==============================] - 0s 1ms/step - loss: 252350.9062\n",
            "Epoch 32/250\n",
            "22/22 [==============================] - 0s 1ms/step - loss: 251866.8906\n",
            "Epoch 33/250\n",
            "22/22 [==============================] - 0s 1ms/step - loss: 251437.3438\n",
            "Epoch 34/250\n",
            "22/22 [==============================] - 0s 1ms/step - loss: 250901.2031\n",
            "Epoch 35/250\n",
            "22/22 [==============================] - 0s 1ms/step - loss: 250585.7969\n",
            "Epoch 36/250\n",
            "22/22 [==============================] - 0s 1ms/step - loss: 249599.5625\n",
            "Epoch 37/250\n",
            "22/22 [==============================] - 0s 1ms/step - loss: 248950.4062\n",
            "Epoch 38/250\n",
            "22/22 [==============================] - 0s 1ms/step - loss: 248257.9531\n",
            "Epoch 39/250\n",
            "22/22 [==============================] - 0s 1ms/step - loss: 247152.1094\n",
            "Epoch 40/250\n",
            "22/22 [==============================] - 0s 1ms/step - loss: 246356.0000\n",
            "Epoch 41/250\n",
            "22/22 [==============================] - 0s 1ms/step - loss: 245550.7344\n",
            "Epoch 42/250\n",
            "22/22 [==============================] - 0s 1ms/step - loss: 244453.5469\n",
            "Epoch 43/250\n",
            "22/22 [==============================] - 0s 1ms/step - loss: 243392.2656\n",
            "Epoch 44/250\n",
            "22/22 [==============================] - 0s 1ms/step - loss: 242262.7344\n",
            "Epoch 45/250\n",
            "22/22 [==============================] - 0s 1ms/step - loss: 241107.7500\n",
            "Epoch 46/250\n",
            "22/22 [==============================] - 0s 1ms/step - loss: 239931.6094\n",
            "Epoch 47/250\n",
            "22/22 [==============================] - 0s 1ms/step - loss: 238356.6562\n",
            "Epoch 48/250\n",
            "22/22 [==============================] - 0s 1ms/step - loss: 236885.4062\n",
            "Epoch 49/250\n",
            "22/22 [==============================] - 0s 1ms/step - loss: 235468.8125\n",
            "Epoch 50/250\n",
            "22/22 [==============================] - 0s 1ms/step - loss: 233679.3906\n",
            "Epoch 51/250\n",
            "22/22 [==============================] - 0s 1ms/step - loss: 232126.7344\n",
            "Epoch 52/250\n",
            "22/22 [==============================] - 0s 1ms/step - loss: 230391.8125\n",
            "Epoch 53/250\n",
            "22/22 [==============================] - 0s 1ms/step - loss: 228317.3594\n",
            "Epoch 54/250\n",
            "22/22 [==============================] - 0s 1ms/step - loss: 226285.7500\n",
            "Epoch 55/250\n",
            "22/22 [==============================] - 0s 1ms/step - loss: 224226.8438\n",
            "Epoch 56/250\n",
            "22/22 [==============================] - 0s 1ms/step - loss: 222036.2500\n",
            "Epoch 57/250\n",
            "22/22 [==============================] - 0s 1ms/step - loss: 219998.8594\n",
            "Epoch 58/250\n",
            "22/22 [==============================] - 0s 1ms/step - loss: 217314.4375\n",
            "Epoch 59/250\n",
            "22/22 [==============================] - 0s 1ms/step - loss: 214886.0156\n",
            "Epoch 60/250\n",
            "22/22 [==============================] - 0s 1ms/step - loss: 212365.6406\n",
            "Epoch 61/250\n",
            "22/22 [==============================] - 0s 1ms/step - loss: 209586.1406\n",
            "Epoch 62/250\n",
            "22/22 [==============================] - 0s 1ms/step - loss: 206925.3594\n",
            "Epoch 63/250\n",
            "22/22 [==============================] - 0s 1ms/step - loss: 203805.8594\n",
            "Epoch 64/250\n",
            "22/22 [==============================] - 0s 1ms/step - loss: 200794.1406\n",
            "Epoch 65/250\n",
            "22/22 [==============================] - 0s 1ms/step - loss: 197601.2344\n",
            "Epoch 66/250\n",
            "22/22 [==============================] - 0s 1ms/step - loss: 194309.8438\n",
            "Epoch 67/250\n",
            "22/22 [==============================] - 0s 1ms/step - loss: 191067.0625\n",
            "Epoch 68/250\n",
            "22/22 [==============================] - 0s 1ms/step - loss: 187576.3281\n",
            "Epoch 69/250\n",
            "22/22 [==============================] - 0s 1ms/step - loss: 183955.8125\n",
            "Epoch 70/250\n",
            "22/22 [==============================] - 0s 1ms/step - loss: 180244.0000\n",
            "Epoch 71/250\n",
            "22/22 [==============================] - 0s 1ms/step - loss: 176349.6875\n",
            "Epoch 72/250\n",
            "22/22 [==============================] - 0s 1ms/step - loss: 172363.2344\n",
            "Epoch 73/250\n",
            "22/22 [==============================] - 0s 1ms/step - loss: 168329.1094\n",
            "Epoch 74/250\n",
            "22/22 [==============================] - 0s 1ms/step - loss: 164182.3594\n",
            "Epoch 75/250\n",
            "22/22 [==============================] - 0s 1ms/step - loss: 159830.9062\n",
            "Epoch 76/250\n",
            "22/22 [==============================] - 0s 1ms/step - loss: 155435.5781\n",
            "Epoch 77/250\n",
            "22/22 [==============================] - 0s 1ms/step - loss: 151007.8750\n",
            "Epoch 78/250\n",
            "22/22 [==============================] - 0s 1ms/step - loss: 146344.5625\n",
            "Epoch 79/250\n",
            "22/22 [==============================] - 0s 1ms/step - loss: 141560.8125\n",
            "Epoch 80/250\n",
            "22/22 [==============================] - 0s 1ms/step - loss: 136782.2500\n",
            "Epoch 81/250\n",
            "22/22 [==============================] - 0s 1ms/step - loss: 131715.9375\n",
            "Epoch 82/250\n",
            "22/22 [==============================] - 0s 1ms/step - loss: 126560.5078\n",
            "Epoch 83/250\n",
            "22/22 [==============================] - 0s 1ms/step - loss: 121365.2578\n",
            "Epoch 84/250\n",
            "22/22 [==============================] - 0s 1ms/step - loss: 116029.1719\n",
            "Epoch 85/250\n",
            "22/22 [==============================] - 0s 1ms/step - loss: 110679.1562\n",
            "Epoch 86/250\n",
            "22/22 [==============================] - 0s 1ms/step - loss: 105194.5938\n",
            "Epoch 87/250\n",
            "22/22 [==============================] - 0s 1ms/step - loss: 99616.2031\n",
            "Epoch 88/250\n",
            "22/22 [==============================] - 0s 1ms/step - loss: 94024.8438\n",
            "Epoch 89/250\n",
            "22/22 [==============================] - 0s 1ms/step - loss: 88434.1562\n",
            "Epoch 90/250\n",
            "22/22 [==============================] - 0s 1ms/step - loss: 82802.1328\n",
            "Epoch 91/250\n",
            "22/22 [==============================] - 0s 1ms/step - loss: 77194.3828\n",
            "Epoch 92/250\n",
            "22/22 [==============================] - 0s 1ms/step - loss: 71470.7344\n",
            "Epoch 93/250\n",
            "22/22 [==============================] - 0s 1ms/step - loss: 65915.7109\n",
            "Epoch 94/250\n",
            "22/22 [==============================] - 0s 1ms/step - loss: 60243.4766\n",
            "Epoch 95/250\n",
            "22/22 [==============================] - 0s 1ms/step - loss: 54833.2031\n",
            "Epoch 96/250\n",
            "22/22 [==============================] - 0s 1ms/step - loss: 49388.4258\n",
            "Epoch 97/250\n",
            "22/22 [==============================] - 0s 1ms/step - loss: 44147.9648\n",
            "Epoch 98/250\n",
            "22/22 [==============================] - 0s 1ms/step - loss: 39040.2500\n",
            "Epoch 99/250\n",
            "22/22 [==============================] - 0s 1ms/step - loss: 34093.6133\n",
            "Epoch 100/250\n",
            "22/22 [==============================] - 0s 1ms/step - loss: 29407.5020\n",
            "Epoch 101/250\n",
            "22/22 [==============================] - 0s 1ms/step - loss: 24928.9082\n",
            "Epoch 102/250\n",
            "22/22 [==============================] - 0s 1ms/step - loss: 20779.1172\n",
            "Epoch 103/250\n",
            "22/22 [==============================] - 0s 1ms/step - loss: 16897.9336\n",
            "Epoch 104/250\n",
            "22/22 [==============================] - 0s 1ms/step - loss: 13401.9023\n",
            "Epoch 105/250\n",
            "22/22 [==============================] - 0s 1ms/step - loss: 10334.5830\n",
            "Epoch 106/250\n",
            "22/22 [==============================] - 0s 1ms/step - loss: 7668.4028\n",
            "Epoch 107/250\n",
            "22/22 [==============================] - 0s 1ms/step - loss: 5450.4819\n",
            "Epoch 108/250\n",
            "22/22 [==============================] - 0s 1ms/step - loss: 3781.5327\n",
            "Epoch 109/250\n",
            "22/22 [==============================] - 0s 1ms/step - loss: 2614.7473\n",
            "Epoch 110/250\n",
            "22/22 [==============================] - 0s 1ms/step - loss: 1978.5958\n",
            "Epoch 111/250\n",
            "22/22 [==============================] - 0s 1ms/step - loss: 1729.7528\n",
            "Epoch 112/250\n",
            "22/22 [==============================] - 0s 1ms/step - loss: 1666.7664\n",
            "Epoch 113/250\n",
            "22/22 [==============================] - 0s 1ms/step - loss: 1645.7355\n",
            "Epoch 114/250\n",
            "22/22 [==============================] - 0s 1ms/step - loss: 1625.4895\n",
            "Epoch 115/250\n",
            "22/22 [==============================] - 0s 1ms/step - loss: 1601.4874\n",
            "Epoch 116/250\n",
            "22/22 [==============================] - 0s 1ms/step - loss: 1570.3711\n",
            "Epoch 117/250\n",
            "22/22 [==============================] - 0s 1ms/step - loss: 1545.8988\n",
            "Epoch 118/250\n",
            "22/22 [==============================] - 0s 1ms/step - loss: 1520.1610\n",
            "Epoch 119/250\n",
            "22/22 [==============================] - 0s 1ms/step - loss: 1497.2681\n",
            "Epoch 120/250\n",
            "22/22 [==============================] - 0s 1ms/step - loss: 1472.1461\n",
            "Epoch 121/250\n",
            "22/22 [==============================] - 0s 1ms/step - loss: 1442.9612\n",
            "Epoch 122/250\n",
            "22/22 [==============================] - 0s 1ms/step - loss: 1417.6682\n",
            "Epoch 123/250\n",
            "22/22 [==============================] - 0s 1ms/step - loss: 1392.4354\n",
            "Epoch 124/250\n",
            "22/22 [==============================] - 0s 1ms/step - loss: 1368.4482\n",
            "Epoch 125/250\n",
            "22/22 [==============================] - 0s 1ms/step - loss: 1345.6073\n",
            "Epoch 126/250\n",
            "22/22 [==============================] - 0s 1ms/step - loss: 1318.3102\n",
            "Epoch 127/250\n",
            "22/22 [==============================] - 0s 1ms/step - loss: 1302.8389\n",
            "Epoch 128/250\n",
            "22/22 [==============================] - 0s 1ms/step - loss: 1276.3524\n",
            "Epoch 129/250\n",
            "22/22 [==============================] - 0s 1ms/step - loss: 1253.3513\n",
            "Epoch 130/250\n",
            "22/22 [==============================] - 0s 1ms/step - loss: 1232.2955\n",
            "Epoch 131/250\n",
            "22/22 [==============================] - 0s 1ms/step - loss: 1205.1818\n",
            "Epoch 132/250\n",
            "22/22 [==============================] - 0s 1ms/step - loss: 1189.2274\n",
            "Epoch 133/250\n",
            "22/22 [==============================] - 0s 1ms/step - loss: 1169.2427\n",
            "Epoch 134/250\n",
            "22/22 [==============================] - 0s 1ms/step - loss: 1141.5562\n",
            "Epoch 135/250\n",
            "22/22 [==============================] - 0s 1ms/step - loss: 1119.9680\n",
            "Epoch 136/250\n",
            "22/22 [==============================] - 0s 1ms/step - loss: 1095.5522\n",
            "Epoch 137/250\n",
            "22/22 [==============================] - 0s 1ms/step - loss: 1075.2407\n",
            "Epoch 138/250\n",
            "22/22 [==============================] - 0s 1ms/step - loss: 1052.7313\n",
            "Epoch 139/250\n",
            "22/22 [==============================] - 0s 1ms/step - loss: 1030.1257\n",
            "Epoch 140/250\n",
            "22/22 [==============================] - 0s 1ms/step - loss: 1006.2695\n",
            "Epoch 141/250\n",
            "22/22 [==============================] - 0s 1ms/step - loss: 985.0367\n",
            "Epoch 142/250\n",
            "22/22 [==============================] - 0s 1ms/step - loss: 958.8201\n",
            "Epoch 143/250\n",
            "22/22 [==============================] - 0s 1ms/step - loss: 934.1221\n",
            "Epoch 144/250\n",
            "22/22 [==============================] - 0s 1ms/step - loss: 912.5696\n",
            "Epoch 145/250\n",
            "22/22 [==============================] - 0s 1ms/step - loss: 893.3583\n",
            "Epoch 146/250\n",
            "22/22 [==============================] - 0s 1ms/step - loss: 872.4394\n",
            "Epoch 147/250\n",
            "22/22 [==============================] - 0s 1ms/step - loss: 854.2803\n",
            "Epoch 148/250\n",
            "22/22 [==============================] - 0s 1ms/step - loss: 832.1381\n",
            "Epoch 149/250\n",
            "22/22 [==============================] - 0s 1ms/step - loss: 814.4647\n",
            "Epoch 150/250\n",
            "22/22 [==============================] - 0s 1ms/step - loss: 792.6539\n",
            "Epoch 151/250\n",
            "22/22 [==============================] - 0s 1ms/step - loss: 772.3510\n",
            "Epoch 152/250\n",
            "22/22 [==============================] - 0s 1ms/step - loss: 749.9692\n",
            "Epoch 153/250\n",
            "22/22 [==============================] - 0s 1ms/step - loss: 732.2413\n",
            "Epoch 154/250\n",
            "22/22 [==============================] - 0s 1ms/step - loss: 712.0955\n",
            "Epoch 155/250\n",
            "22/22 [==============================] - 0s 1ms/step - loss: 692.2907\n",
            "Epoch 156/250\n",
            "22/22 [==============================] - 0s 1ms/step - loss: 672.1775\n",
            "Epoch 157/250\n",
            "22/22 [==============================] - 0s 1ms/step - loss: 650.2496\n",
            "Epoch 158/250\n",
            "22/22 [==============================] - 0s 1ms/step - loss: 632.5555\n",
            "Epoch 159/250\n",
            "22/22 [==============================] - 0s 1ms/step - loss: 616.4969\n",
            "Epoch 160/250\n",
            "22/22 [==============================] - 0s 1ms/step - loss: 599.0981\n",
            "Epoch 161/250\n",
            "22/22 [==============================] - 0s 1ms/step - loss: 581.3238\n",
            "Epoch 162/250\n",
            "22/22 [==============================] - 0s 1ms/step - loss: 567.1974\n",
            "Epoch 163/250\n",
            "22/22 [==============================] - 0s 1ms/step - loss: 548.3607\n",
            "Epoch 164/250\n",
            "22/22 [==============================] - 0s 1ms/step - loss: 529.3815\n",
            "Epoch 165/250\n",
            "22/22 [==============================] - 0s 1ms/step - loss: 511.8131\n",
            "Epoch 166/250\n",
            "22/22 [==============================] - 0s 1ms/step - loss: 493.8892\n",
            "Epoch 167/250\n",
            "22/22 [==============================] - 0s 1ms/step - loss: 480.3130\n",
            "Epoch 168/250\n",
            "22/22 [==============================] - 0s 1ms/step - loss: 460.9104\n",
            "Epoch 169/250\n",
            "22/22 [==============================] - 0s 1ms/step - loss: 446.7717\n",
            "Epoch 170/250\n",
            "22/22 [==============================] - 0s 1ms/step - loss: 430.2150\n",
            "Epoch 171/250\n",
            "22/22 [==============================] - 0s 1ms/step - loss: 412.5399\n",
            "Epoch 172/250\n",
            "22/22 [==============================] - 0s 1ms/step - loss: 396.5078\n",
            "Epoch 173/250\n",
            "22/22 [==============================] - 0s 1ms/step - loss: 383.0224\n",
            "Epoch 174/250\n",
            "22/22 [==============================] - 0s 1ms/step - loss: 369.5568\n",
            "Epoch 175/250\n",
            "22/22 [==============================] - 0s 1ms/step - loss: 353.9555\n",
            "Epoch 176/250\n",
            "22/22 [==============================] - 0s 1ms/step - loss: 341.0357\n",
            "Epoch 177/250\n",
            "22/22 [==============================] - 0s 1ms/step - loss: 327.7460\n",
            "Epoch 178/250\n",
            "22/22 [==============================] - 0s 1ms/step - loss: 316.2084\n",
            "Epoch 179/250\n",
            "22/22 [==============================] - 0s 1ms/step - loss: 304.3978\n",
            "Epoch 180/250\n",
            "22/22 [==============================] - 0s 1ms/step - loss: 291.5717\n",
            "Epoch 181/250\n",
            "22/22 [==============================] - 0s 1ms/step - loss: 278.3416\n",
            "Epoch 182/250\n",
            "22/22 [==============================] - 0s 1ms/step - loss: 265.9458\n",
            "Epoch 183/250\n",
            "22/22 [==============================] - 0s 1ms/step - loss: 255.2839\n",
            "Epoch 184/250\n",
            "22/22 [==============================] - 0s 1ms/step - loss: 244.2510\n",
            "Epoch 185/250\n",
            "22/22 [==============================] - 0s 1ms/step - loss: 231.9693\n",
            "Epoch 186/250\n",
            "22/22 [==============================] - 0s 1ms/step - loss: 221.5422\n",
            "Epoch 187/250\n",
            "22/22 [==============================] - 0s 1ms/step - loss: 211.5781\n",
            "Epoch 188/250\n",
            "22/22 [==============================] - 0s 1ms/step - loss: 201.5279\n",
            "Epoch 189/250\n",
            "22/22 [==============================] - 0s 1ms/step - loss: 190.4255\n",
            "Epoch 190/250\n",
            "22/22 [==============================] - 0s 1ms/step - loss: 183.2172\n",
            "Epoch 191/250\n",
            "22/22 [==============================] - 0s 1ms/step - loss: 174.2810\n",
            "Epoch 192/250\n",
            "22/22 [==============================] - 0s 1ms/step - loss: 166.6946\n",
            "Epoch 193/250\n",
            "22/22 [==============================] - 0s 1ms/step - loss: 157.3318\n",
            "Epoch 194/250\n",
            "22/22 [==============================] - 0s 1ms/step - loss: 148.6916\n",
            "Epoch 195/250\n",
            "22/22 [==============================] - 0s 1ms/step - loss: 140.5011\n",
            "Epoch 196/250\n",
            "22/22 [==============================] - 0s 1ms/step - loss: 132.9671\n",
            "Epoch 197/250\n",
            "22/22 [==============================] - 0s 1ms/step - loss: 125.9202\n",
            "Epoch 198/250\n",
            "22/22 [==============================] - 0s 1ms/step - loss: 118.4721\n",
            "Epoch 199/250\n",
            "22/22 [==============================] - 0s 1ms/step - loss: 112.7799\n",
            "Epoch 200/250\n",
            "22/22 [==============================] - 0s 1ms/step - loss: 107.0046\n",
            "Epoch 201/250\n",
            "22/22 [==============================] - 0s 1ms/step - loss: 100.1723\n",
            "Epoch 202/250\n",
            "22/22 [==============================] - 0s 1ms/step - loss: 92.9534\n",
            "Epoch 203/250\n",
            "22/22 [==============================] - 0s 1ms/step - loss: 87.8881\n",
            "Epoch 204/250\n",
            "22/22 [==============================] - 0s 1ms/step - loss: 81.6723\n",
            "Epoch 205/250\n",
            "22/22 [==============================] - 0s 1ms/step - loss: 76.6559\n",
            "Epoch 206/250\n",
            "22/22 [==============================] - 0s 1ms/step - loss: 71.8191\n",
            "Epoch 207/250\n",
            "22/22 [==============================] - 0s 1ms/step - loss: 66.9669\n",
            "Epoch 208/250\n",
            "22/22 [==============================] - 0s 1ms/step - loss: 62.3308\n",
            "Epoch 209/250\n",
            "22/22 [==============================] - 0s 1ms/step - loss: 58.6440\n",
            "Epoch 210/250\n",
            "22/22 [==============================] - 0s 1ms/step - loss: 55.2437\n",
            "Epoch 211/250\n",
            "22/22 [==============================] - 0s 1ms/step - loss: 52.3007\n",
            "Epoch 212/250\n",
            "22/22 [==============================] - 0s 1ms/step - loss: 49.3814\n",
            "Epoch 213/250\n",
            "22/22 [==============================] - 0s 1ms/step - loss: 46.7854\n",
            "Epoch 214/250\n",
            "22/22 [==============================] - 0s 1ms/step - loss: 44.2751\n",
            "Epoch 215/250\n",
            "22/22 [==============================] - 0s 1ms/step - loss: 42.2836\n",
            "Epoch 216/250\n",
            "22/22 [==============================] - 0s 1ms/step - loss: 39.6026\n",
            "Epoch 217/250\n",
            "22/22 [==============================] - 0s 1ms/step - loss: 38.3208\n",
            "Epoch 218/250\n",
            "22/22 [==============================] - 0s 1ms/step - loss: 36.4234\n",
            "Epoch 219/250\n",
            "22/22 [==============================] - 0s 1ms/step - loss: 35.0970\n",
            "Epoch 220/250\n",
            "22/22 [==============================] - 0s 1ms/step - loss: 33.6993\n",
            "Epoch 221/250\n",
            "22/22 [==============================] - 0s 1ms/step - loss: 32.6089\n",
            "Epoch 222/250\n",
            "22/22 [==============================] - 0s 1ms/step - loss: 31.7382\n",
            "Epoch 223/250\n",
            "22/22 [==============================] - 0s 1ms/step - loss: 30.8486\n",
            "Epoch 224/250\n",
            "22/22 [==============================] - 0s 1ms/step - loss: 30.0861\n",
            "Epoch 225/250\n",
            "22/22 [==============================] - 0s 1ms/step - loss: 29.1196\n",
            "Epoch 226/250\n",
            "22/22 [==============================] - 0s 1ms/step - loss: 28.3450\n",
            "Epoch 227/250\n",
            "22/22 [==============================] - 0s 1ms/step - loss: 27.9181\n",
            "Epoch 228/250\n",
            "22/22 [==============================] - 0s 1ms/step - loss: 27.6192\n",
            "Epoch 229/250\n",
            "22/22 [==============================] - 0s 1ms/step - loss: 26.7987\n",
            "Epoch 230/250\n",
            "22/22 [==============================] - 0s 1ms/step - loss: 26.1648\n",
            "Epoch 231/250\n",
            "22/22 [==============================] - 0s 1ms/step - loss: 26.2873\n",
            "Epoch 232/250\n",
            "22/22 [==============================] - 0s 1ms/step - loss: 25.9218\n",
            "Epoch 233/250\n",
            "22/22 [==============================] - 0s 1ms/step - loss: 25.2213\n",
            "Epoch 234/250\n",
            "22/22 [==============================] - 0s 1ms/step - loss: 25.3581\n",
            "Epoch 235/250\n",
            "22/22 [==============================] - 0s 1ms/step - loss: 25.1184\n",
            "Epoch 236/250\n",
            "22/22 [==============================] - 0s 1ms/step - loss: 25.2773\n",
            "Epoch 237/250\n",
            "22/22 [==============================] - 0s 1ms/step - loss: 24.7947\n",
            "Epoch 238/250\n",
            "22/22 [==============================] - 0s 1ms/step - loss: 24.3179\n",
            "Epoch 239/250\n",
            "22/22 [==============================] - 0s 1ms/step - loss: 25.3031\n",
            "Epoch 240/250\n",
            "22/22 [==============================] - 0s 1ms/step - loss: 24.5374\n",
            "Epoch 241/250\n",
            "22/22 [==============================] - 0s 1ms/step - loss: 24.7905\n",
            "Epoch 242/250\n",
            "22/22 [==============================] - 0s 1ms/step - loss: 24.5158\n",
            "Epoch 243/250\n",
            "22/22 [==============================] - 0s 1ms/step - loss: 24.6915\n",
            "Epoch 244/250\n",
            "22/22 [==============================] - 0s 1ms/step - loss: 24.5575\n",
            "Epoch 245/250\n",
            "22/22 [==============================] - 0s 1ms/step - loss: 25.1346\n",
            "Epoch 246/250\n",
            "22/22 [==============================] - 0s 1ms/step - loss: 24.3489\n",
            "Epoch 247/250\n",
            "22/22 [==============================] - 0s 1ms/step - loss: 24.1811\n",
            "Epoch 248/250\n",
            "22/22 [==============================] - 0s 1ms/step - loss: 24.5229\n",
            "Epoch 249/250\n",
            "22/22 [==============================] - 0s 1ms/step - loss: 24.3480\n",
            "Epoch 250/250\n",
            "22/22 [==============================] - 0s 1ms/step - loss: 24.3990\n"
          ],
          "name": "stdout"
        },
        {
          "output_type": "execute_result",
          "data": {
            "text/plain": [
              "<tensorflow.python.keras.callbacks.History at 0x7fc82ba6c438>"
            ]
          },
          "metadata": {
            "tags": []
          },
          "execution_count": 48
        }
      ]
    },
    {
      "cell_type": "markdown",
      "metadata": {
        "id": "xOFF_XHpiEKB",
        "colab_type": "text"
      },
      "source": [
        "# Plot Loss"
      ]
    },
    {
      "cell_type": "code",
      "metadata": {
        "id": "2H9Oy5Rhh23D",
        "colab_type": "code",
        "colab": {
          "base_uri": "https://localhost:8080/",
          "height": 500
        },
        "outputId": "7998bbcd-6b16-4a13-fa86-a08870329eee"
      },
      "source": [
        "loss_df=pd.DataFrame(model.history.history)\n",
        "loss_df.plot(figsize=(14,8))"
      ],
      "execution_count": 49,
      "outputs": [
        {
          "output_type": "execute_result",
          "data": {
            "text/plain": [
              "<matplotlib.axes._subplots.AxesSubplot at 0x7fc82b103a58>"
            ]
          },
          "metadata": {
            "tags": []
          },
          "execution_count": 49
        },
        {
          "output_type": "display_data",
          "data": {
            "image/png": "[encoded data removed]",
            "text/plain": [
              "<Figure size 1008x576 with 1 Axes>"
            ]
          },
          "metadata": {
            "tags": []
          }
        }
      ]
    },
    {
      "cell_type": "markdown",
      "metadata": {
        "id": "XMZGU271i5Wm",
        "colab_type": "text"
      },
      "source": [
        "# Evaluate Model on test set"
      ]
    },
    {
      "cell_type": "code",
      "metadata": {
        "id": "y2BxEVRliP21",
        "colab_type": "code",
        "colab": {
          "base_uri": "https://localhost:8080/",
          "height": 34
        },
        "outputId": "66f4b2d6-327e-4559-a7f0-6d496f715f52"
      },
      "source": [
        "model.evaluate(X_test,y=y_test,verbose=0)"
      ],
      "execution_count": 50,
      "outputs": [
        {
          "output_type": "execute_result",
          "data": {
            "text/plain": [
              "25.680980682373047"
            ]
          },
          "metadata": {
            "tags": []
          },
          "execution_count": 50
        }
      ]
    },
    {
      "cell_type": "code",
      "metadata": {
        "id": "5PQWKwIyjOb7",
        "colab_type": "code",
        "colab": {
          "base_uri": "https://localhost:8080/",
          "height": 51
        },
        "outputId": "51db24d7-bc25-4548-f468-f99b0dcfe310"
      },
      "source": [
        "#evaliate on train set\n",
        "model.evaluate(X_train,y=y_train)"
      ],
      "execution_count": 51,
      "outputs": [
        {
          "output_type": "stream",
          "text": [
            "22/22 [==============================] - 0s 960us/step - loss: 23.8316\n"
          ],
          "name": "stdout"
        },
        {
          "output_type": "execute_result",
          "data": {
            "text/plain": [
              "23.831634521484375"
            ]
          },
          "metadata": {
            "tags": []
          },
          "execution_count": 51
        }
      ]
    },
    {
      "cell_type": "markdown",
      "metadata": {
        "id": "MBlDaIvWl8y6",
        "colab_type": "text"
      },
      "source": [
        "# Predictions"
      ]
    },
    {
      "cell_type": "code",
      "metadata": {
        "id": "PL17ONuKjV8J",
        "colab_type": "code",
        "colab": {}
      },
      "source": [
        "test_predictions=model.predict(X_test)"
      ],
      "execution_count": 0,
      "outputs": []
    },
    {
      "cell_type": "code",
      "metadata": {
        "id": "VWbc3CSql5zJ",
        "colab_type": "code",
        "colab": {}
      },
      "source": [
        "#to series\n",
        "test_predictions=pd.Series(test_predictions.reshape(300,))"
      ],
      "execution_count": 0,
      "outputs": []
    },
    {
      "cell_type": "code",
      "metadata": {
        "id": "IzIfFyMymaAp",
        "colab_type": "code",
        "colab": {}
      },
      "source": [
        "test_predictions"
      ],
      "execution_count": 0,
      "outputs": []
    },
    {
      "cell_type": "code",
      "metadata": {
        "id": "oYeyfoJDmau2",
        "colab_type": "code",
        "colab": {}
      },
      "source": [
        "#create dataframe with real and preducted test values\n",
        "pred_df=pd.DataFrame(y_test,columns=['Test True Y'])"
      ],
      "execution_count": 0,
      "outputs": []
    },
    {
      "cell_type": "code",
      "metadata": {
        "id": "3MDj24j5mwBA",
        "colab_type": "code",
        "colab": {}
      },
      "source": [
        "pred_df"
      ],
      "execution_count": 0,
      "outputs": []
    },
    {
      "cell_type": "code",
      "metadata": {
        "id": "RMq6flr3mwwJ",
        "colab_type": "code",
        "colab": {}
      },
      "source": [
        "pred_df=pd.concat([pred_df,test_predictions],axis=1)"
      ],
      "execution_count": 0,
      "outputs": []
    },
    {
      "cell_type": "code",
      "metadata": {
        "id": "gGCrlBIcm_pn",
        "colab_type": "code",
        "colab": {
          "base_uri": "https://localhost:8080/",
          "height": 419
        },
        "outputId": "f3c5d0e4-cd78-4030-ee56-ffcf97cfe0eb"
      },
      "source": [
        "pred_df.columns=(['Test True Y','Model Predictions'])\n",
        "pred_df"
      ],
      "execution_count": 68,
      "outputs": [
        {
          "output_type": "execute_result",
          "data": {
            "text/html": [
              "<div>\n",
              "<style scoped>\n",
              "    .dataframe tbody tr th:only-of-type {\n",
              "        vertical-align: middle;\n",
              "    }\n",
              "\n",
              "    .dataframe tbody tr th {\n",
              "        vertical-align: top;\n",
              "    }\n",
              "\n",
              "    .dataframe thead th {\n",
              "        text-align: right;\n",
              "    }\n",
              "</style>\n",
              "<table border=\"1\" class=\"dataframe\">\n",
              "  <thead>\n",
              "    <tr style=\"text-align: right;\">\n",
              "      <th></th>\n",
              "      <th>Test True Y</th>\n",
              "      <th>Model Predictions</th>\n",
              "    </tr>\n",
              "  </thead>\n",
              "  <tbody>\n",
              "    <tr>\n",
              "      <th>0</th>\n",
              "      <td>402.296319</td>\n",
              "      <td>405.752106</td>\n",
              "    </tr>\n",
              "    <tr>\n",
              "      <th>1</th>\n",
              "      <td>624.156198</td>\n",
              "      <td>623.711365</td>\n",
              "    </tr>\n",
              "    <tr>\n",
              "      <th>2</th>\n",
              "      <td>582.455066</td>\n",
              "      <td>592.276794</td>\n",
              "    </tr>\n",
              "    <tr>\n",
              "      <th>3</th>\n",
              "      <td>578.588606</td>\n",
              "      <td>572.622864</td>\n",
              "    </tr>\n",
              "    <tr>\n",
              "      <th>4</th>\n",
              "      <td>371.224104</td>\n",
              "      <td>367.429901</td>\n",
              "    </tr>\n",
              "    <tr>\n",
              "      <th>...</th>\n",
              "      <td>...</td>\n",
              "      <td>...</td>\n",
              "    </tr>\n",
              "    <tr>\n",
              "      <th>295</th>\n",
              "      <td>525.704657</td>\n",
              "      <td>529.476257</td>\n",
              "    </tr>\n",
              "    <tr>\n",
              "      <th>296</th>\n",
              "      <td>502.909473</td>\n",
              "      <td>516.136230</td>\n",
              "    </tr>\n",
              "    <tr>\n",
              "      <th>297</th>\n",
              "      <td>612.727910</td>\n",
              "      <td>609.807983</td>\n",
              "    </tr>\n",
              "    <tr>\n",
              "      <th>298</th>\n",
              "      <td>417.569725</td>\n",
              "      <td>417.261139</td>\n",
              "    </tr>\n",
              "    <tr>\n",
              "      <th>299</th>\n",
              "      <td>410.538250</td>\n",
              "      <td>411.445404</td>\n",
              "    </tr>\n",
              "  </tbody>\n",
              "</table>\n",
              "<p>300 rows × 2 columns</p>\n",
              "</div>"
            ],
            "text/plain": [
              "     Test True Y  Model Predictions\n",
              "0     402.296319         405.752106\n",
              "1     624.156198         623.711365\n",
              "2     582.455066         592.276794\n",
              "3     578.588606         572.622864\n",
              "4     371.224104         367.429901\n",
              "..           ...                ...\n",
              "295   525.704657         529.476257\n",
              "296   502.909473         516.136230\n",
              "297   612.727910         609.807983\n",
              "298   417.569725         417.261139\n",
              "299   410.538250         411.445404\n",
              "\n",
              "[300 rows x 2 columns]"
            ]
          },
          "metadata": {
            "tags": []
          },
          "execution_count": 68
        }
      ]
    },
    {
      "cell_type": "markdown",
      "metadata": {
        "id": "cj0JLrPhpkOA",
        "colab_type": "text"
      },
      "source": [
        "# Plot Predictions"
      ]
    },
    {
      "cell_type": "code",
      "metadata": {
        "id": "FHU8mbSPnTSs",
        "colab_type": "code",
        "colab": {
          "base_uri": "https://localhost:8080/",
          "height": 296
        },
        "outputId": "b4533899-2bcb-4baf-a7a8-33726872e5f1"
      },
      "source": [
        "sns.scatterplot(x='Test True Y',y='Model Predictions',data=pred_df)"
      ],
      "execution_count": 72,
      "outputs": [
        {
          "output_type": "execute_result",
          "data": {
            "text/plain": [
              "<matplotlib.axes._subplots.AxesSubplot at 0x7fc829436be0>"
            ]
          },
          "metadata": {
            "tags": []
          },
          "execution_count": 72
        },
        {
          "output_type": "display_data",
          "data": {
            "image/png": "[encoded data removed]",
            "text/plain": [
              "<Figure size 432x288 with 1 Axes>"
            ]
          },
          "metadata": {
            "tags": []
          }
        }
      ]
    },
    {
      "cell_type": "markdown",
      "metadata": {
        "id": "bOxaiHAbqHvJ",
        "colab_type": "text"
      },
      "source": [
        "# Regression Evaluation"
      ]
    },
    {
      "cell_type": "code",
      "metadata": {
        "id": "i8J3BH9ZpqJ9",
        "colab_type": "code",
        "colab": {}
      },
      "source": [
        "from sklearn.metrics import mean_absolute_error,mean_squared_error"
      ],
      "execution_count": 0,
      "outputs": []
    },
    {
      "cell_type": "code",
      "metadata": {
        "id": "Vn1aedZkqSn5",
        "colab_type": "code",
        "colab": {
          "base_uri": "https://localhost:8080/",
          "height": 34
        },
        "outputId": "00735d17-4963-4e0c-92d3-8b106dc60259"
      },
      "source": [
        "# em media estamos este valor fora\n",
        "mean_absolute_error(pred_df['Test True Y'],pred_df['Model Predictions'])"
      ],
      "execution_count": 74,
      "outputs": [
        {
          "output_type": "execute_result",
          "data": {
            "text/plain": [
              "4.041676961144407"
            ]
          },
          "metadata": {
            "tags": []
          },
          "execution_count": 74
        }
      ]
    },
    {
      "cell_type": "code",
      "metadata": {
        "id": "57bw8TTpqomg",
        "colab_type": "code",
        "colab": {
          "base_uri": "https://localhost:8080/",
          "height": 85
        },
        "outputId": "2a3480b6-5c4b-41c6-be78-c273ea73ea71"
      },
      "source": [
        "df.mean()"
      ],
      "execution_count": 75,
      "outputs": [
        {
          "output_type": "execute_result",
          "data": {
            "text/plain": [
              "price        498.673029\n",
              "feature1    1000.014171\n",
              "feature2     999.979847\n",
              "dtype: float64"
            ]
          },
          "metadata": {
            "tags": []
          },
          "execution_count": 75
        }
      ]
    },
    {
      "cell_type": "code",
      "metadata": {
        "id": "fcmfPK2hrZA1",
        "colab_type": "code",
        "colab": {
          "base_uri": "https://localhost:8080/",
          "height": 34
        },
        "outputId": "388d7741-ff88-4ecd-b03e-53fe425d0ce0"
      },
      "source": [
        "mean_squared_error(pred_df['Test True Y'],pred_df['Model Predictions'])"
      ],
      "execution_count": 77,
      "outputs": [
        {
          "output_type": "execute_result",
          "data": {
            "text/plain": [
              "5.022763344905881"
            ]
          },
          "metadata": {
            "tags": []
          },
          "execution_count": 77
        }
      ]
    },
    {
      "cell_type": "code",
      "metadata": {
        "id": "9pp9lQFfrdEJ",
        "colab_type": "code",
        "colab": {
          "base_uri": "https://localhost:8080/",
          "height": 34
        },
        "outputId": "b9f191f0-0cdc-4a1c-dff6-fda7d8c5c88b"
      },
      "source": [
        "np.sqrt(mean_squared_error(pred_df['Test True Y'],pred_df['Model Predictions']))"
      ],
      "execution_count": 78,
      "outputs": [
        {
          "output_type": "execute_result",
          "data": {
            "text/plain": [
              "5.022763344905881"
            ]
          },
          "metadata": {
            "tags": []
          },
          "execution_count": 78
        }
      ]
    },
    {
      "cell_type": "markdown",
      "metadata": {
        "id": "FXqM7ibKr2XZ",
        "colab_type": "text"
      },
      "source": [
        "# Prediction on New Data"
      ]
    },
    {
      "cell_type": "code",
      "metadata": {
        "id": "SE3wRQvSrs8i",
        "colab_type": "code",
        "colab": {
          "base_uri": "https://localhost:8080/",
          "height": 34
        },
        "outputId": "deff7039-4724-4cdb-b111-8fd02d2968bc"
      },
      "source": [
        "new_gem=[[998,1000]]\n",
        "new_gem=scaler.transform(new_gem)\n",
        "model.predict(new_gem)"
      ],
      "execution_count": 79,
      "outputs": [
        {
          "output_type": "execute_result",
          "data": {
            "text/plain": [
              "array([[420.40817]], dtype=float32)"
            ]
          },
          "metadata": {
            "tags": []
          },
          "execution_count": 79
        }
      ]
    },
    {
      "cell_type": "markdown",
      "metadata": {
        "id": "l_xGHrLUuUV7",
        "colab_type": "text"
      },
      "source": [
        "# Save Model"
      ]
    },
    {
      "cell_type": "code",
      "metadata": {
        "id": "Xu6UQX9NsOyO",
        "colab_type": "code",
        "colab": {
          "base_uri": "https://localhost:8080/",
          "height": 51
        },
        "outputId": "7dc594a1-9aaf-48f2-df68-135794b83332"
      },
      "source": [
        "from tensorflow.keras.models import load_model\n",
        "model.save('test_model.h5')\n",
        "later_model=load_model('test_model.h5')\n",
        "later_model.predict(new_gem)"
      ],
      "execution_count": 80,
      "outputs": [
        {
          "output_type": "stream",
          "text": [
            "WARNING:tensorflow:Sequential models without an `input_shape` passed to the first layer cannot reload their optimizer state. As a result, your model isstarting with a freshly initialized optimizer.\n"
          ],
          "name": "stdout"
        },
        {
          "output_type": "execute_result",
          "data": {
            "text/plain": [
              "array([[420.40817]], dtype=float32)"
            ]
          },
          "metadata": {
            "tags": []
          },
          "execution_count": 80
        }
      ]
    },
    {
      "cell_type": "code",
      "metadata": {
        "id": "yDFSFrRnun9K",
        "colab_type": "code",
        "colab": {}
      },
      "source": [
        ""
      ],
      "execution_count": 0,
      "outputs": []
    }
  ]
}